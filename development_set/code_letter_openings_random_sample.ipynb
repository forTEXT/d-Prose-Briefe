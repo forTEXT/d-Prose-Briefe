{
 "cells": [
  {
   "cell_type": "code",
   "execution_count": 5,
   "id": "a2376438",
   "metadata": {},
   "outputs": [],
   "source": [
    "# Import \n",
    "import os\n",
    "import pandas as pd\n",
    "import regex as re\n",
    "from pathlib import Path\n",
    "from collections import Counter\n",
    "import csv"
   ]
  },
  {
   "cell_type": "markdown",
   "id": "e9420c22",
   "metadata": {},
   "source": [
    "## Read in the sample text"
   ]
  },
  {
   "cell_type": "code",
   "execution_count": 1,
   "id": "d2a287ed",
   "metadata": {},
   "outputs": [
    {
     "name": "stdout",
     "output_type": "stream",
     "text": [
      "random_text\n",
      "\"Das Tanzlegendchen Nach der Aufzeichnung des heiligen Gregorius war Musa die Tänzerin unter den Heiligen. Guter Leute Kind, war sie ein anmutvolles Jungfräulein, welches der Mutter Gottes\n"
     ]
    }
   ],
   "source": [
    "# Read in the sample text, here: 'random_sample_d_prose_clean_text.txt' or 'Beispieltext.txt'\n",
    "with open('random_sample_d_prose_clean_text.txt') as f:\n",
    "    text = f.read()\n",
    "    print(text[:200])"
   ]
  },
  {
   "cell_type": "code",
   "execution_count": 2,
   "id": "6868e68d",
   "metadata": {},
   "outputs": [
    {
     "name": "stdout",
     "output_type": "stream",
     "text": [
      "8145122\n"
     ]
    }
   ],
   "source": [
    "# Print how many characters are in the sample text\n",
    "text_length = len(text)\n",
    "print(text_length)"
   ]
  },
  {
   "cell_type": "markdown",
   "id": "57493ab1",
   "metadata": {},
   "source": [
    "## Preprocessing"
   ]
  },
  {
   "cell_type": "code",
   "execution_count": 8,
   "id": "6594f9b2",
   "metadata": {},
   "outputs": [
    {
     "name": "stdout",
     "output_type": "stream",
     "text": [
      "random_text \"Das Tanzlegendchen Nach der Aufzeichnung des heiligen Gregorius war Musa die Tänzerin unter den Heiligen. Guter Leute Kind, war sie ein anmutvolles Jungfräulein, welches der Mutter Gottes\n"
     ]
    }
   ],
   "source": [
    "# Text preparation steps to clean the input text data\n",
    "\n",
    "single_spaces_text = re.sub('\\n+', '\\n', text)\n",
    "single_spaces_text = re.sub('\\s+', ' ', single_spaces_text)\n",
    "single_spaces_text = re.sub('--+', ' -- ', single_spaces_text)\n",
    "single_spaces_text = re.sub('&', 'und', single_spaces_text)\n",
    "single_spaces_text = re.sub('<|/', ' ', single_spaces_text)\n",
    "single_spaces_text = re.sub('>', ' ', single_spaces_text)\n",
    "single_spaces_text = re.sub(\"'s\", ' es', single_spaces_text)\n",
    "single_spaces_text = re.sub(';', '.', single_spaces_text)\n",
    "single_spaces_text = re.sub('\\d', ' ', single_spaces_text)\n",
    "text = re.sub('\\s+', ' ', single_spaces_text)\n",
    "\n",
    "print(text[:200])"
   ]
  },
  {
   "cell_type": "markdown",
   "id": "6b8d60da",
   "metadata": {},
   "source": [
    "## Define the Regular Expressions for the detection process"
   ]
  },
  {
   "cell_type": "code",
   "execution_count": 95,
   "id": "63c5fff2",
   "metadata": {},
   "outputs": [],
   "source": [
    "# Liste von Briefanfängen und -enden\n",
    "letter_openings = [\n",
    "    r'[»]?Mein[e]? [lL]iebe[rsn]?\\s[A-Za-z]*[!]',\n",
    "    r'[»]?Hochverehrte[rsn]?\\s[A-Za-z]*[!]',\n",
    "    r'[»]?Einziggeliebt[er]?\\s[A-Za-z]*[.!,]?',\n",
    "    r'[»]?Geehrte[rsn]?\\s[A-Za-z]*[.!,]?',\n",
    "    r'[»]?Sehr geehrte[srn]?\\s[A-Za-z]*[.!,]?',\n",
    "    r'[»]?Sehr verehrte[rs]?\\s[A-Za-z]*[.!,]?',\n",
    "    r'[»]?Grüss dich\\s[A-Za-z]*[.!,]?',\n",
    "    r'[»]?Grüß dich\\s[A-Za-z]*[.!,]?',\n",
    "    #r'[»]?\\b(?!die\\s+)Liebe\\b\\s[A-Za-z]*[.!,]?',\n",
    "    #r'[»]?Liebe[sr]+\\s[A-Za-z]*[.!,]?',\n",
    "    r'»Liebe[sr]+\\s[A-Z][a-z\\s]*[A-Za-z!]*',\n",
    "    r'»Liebste[sr]?\\s[A-Za-z]*[A-Za-z!]*',\n",
    "    r'[»]?Lieber Vater[!]',\n",
    "    r'[»]?Liebster Vater[!]',\n",
    "    r'[»]?Liebe Mutter[!]',\n",
    "    r'[»]?Liebste Mutter[!]',\n",
    "    r'[»]?Lieber Freund[!]',\n",
    "    r'[»]?Geliebteste[r]?[!]',\n",
    "    r'[»]?Geliebte[r][!]',\n",
    "    r'[»]?Geliebte[!]',\n",
    "    r'[»]?Einzig geliebteste[r]?[.!,]?',\n",
    "    r'[»]?Einzig geliebte[r]?[.!,]?',\n",
    "    r'[»]?Hochverehrter Herr[.!,]?',\n",
    "    r'[»]?Hochverehrte Frau[.!,]?',\n",
    "    r'[»]?Werte[rs]?\\s[A-Za-z]*[!]',\n",
    "    r'[»]?Mein geliebte[rs]?\\s[A-Za-z]*[.!,]?',\n",
    "    r'[»]?Teuerste[sr]?\\s[A-Za-z]*[.!,]?',\n",
    "    r'[»]?Teure[sr]?\\s[A-Za-z]*[.!,]?',\n",
    "    r'[»]?Mein Liebchen[.!,]?',\n",
    "    r'(?:[A-ZÄÖÜa-zäöüß\\s]+,\\s*den\\s+\\d+\\.\\s+[A-ZÄÖÜa-zäöüß]+\\s+\\d{4}\\.)',\n",
    "    #r'\\b\\d{1,2}\\. (Januar|Februar|März|April|Mai|Juni|Juli|August|September|Oktober|November|Dezember)(?: \\d{2,4})?\\b'\n",
    "    r'(?:[A-ZÄÖÜa-zäöüß\\s]+,\\s*den\\s+\\d+\\.\\s+[A-ZÄÖÜa-zäöüß]+\\s+\\d{4}\\.)|\\b\\d{1,2}\\. (Januar|Februar|März|April|Mai|Juni|Juli|August|September|Oktober|November|Dezember)(?: \\d{2,4})?\\b'\n",
    "    # Ab hier weitere auszuschließende Fälle\n",
    "]\n"
   ]
  },
  {
   "cell_type": "markdown",
   "id": "cb5709ba",
   "metadata": {},
   "source": [
    "## Do the matching and get the output as a dictionary"
   ]
  },
  {
   "cell_type": "code",
   "execution_count": 111,
   "id": "ce7154f6",
   "metadata": {},
   "outputs": [
    {
     "name": "stdout",
     "output_type": "stream",
     "text": [
      "'»Mein liebes Kind!« Der alte Junker trat näher an sie heran und dämpfte seine Stimme. »Du hast mir wahr und offenherzi'\n",
      "Start Index: 780999\n",
      "'Meine liebe Rose! Gestern sind wir zu Hause angekommen, nachdem wir eine wunderschöne kleine Reise gemacht haben. So '\n",
      "Start Index: 4308528\n",
      "'»Mein lieber Paolo! Sieh, der Herr hier will uns noch viel mehr Geld geben, so daß wir sicher bald heiraten können.« »J'\n",
      "Start Index: 4680003\n",
      "'»Hochverehrter Herr! Der ergebenst Unterzeichnete gibt sich die Ehre, Sie zu einer Besprechung einzuladen, betreffend ei'\n",
      "Start Index: 1353269\n",
      "'Hochverehrte Festversammlung! Nil admirari sagt jener berühmte Horatius, welchem wir auch das andere Wort verdanken, es ist schön'\n",
      "Start Index: 2520217\n",
      "'Hochverehrte Festversammlung! Ist es doch wahr, dieses Wort des lateinischen Dichters! Denn wohin wir auch blicken, immer wieder '\n",
      "Start Index: 2520438\n",
      "'Hochverehrte Festversammlung! Nil admirari! Welch ein Unterschied zwischen heute und gestern! Der Totgeglaubte steht gesund und f'\n",
      "Start Index: 2521223\n",
      "'»Geehrter Herr! Ich zeige Ihnen, der Sie immer so teilnehmend gegen uns gewesen sind, im eigenen und im Namen meine'\n",
      "Start Index: 3406170\n",
      "'Sehr verehrter Herr! Ich bin unmöglich in der Lage, für alle verliebten Dummheiten meiner Frau aufzukommen, die dieselbe'\n",
      "Start Index: 4466941\n",
      "'Grüß dich Gott, Lieserl!« Nach diesem Erkennen wurde nichts mehr gesprochen, man hörte nur mehr »Lieserl« und »Fran'\n",
      "Start Index: 5843920\n",
      "'»Grüß dich Gott, Kindl!« sagte Schweiker und streckte zum Gruß die Hand. Die Hirtin zitterte und schaute. »Grüß dich'\n",
      "Start Index: 6009000\n",
      "'»Grüß dich Gott, Kindl!« wiederholte Schweiker. Die Hirtin schwieg. »So gib mir den Gruß doch heim!« Keine Antwort. '\n",
      "Start Index: 6009106\n",
      "'»Lieber Gott … wer kann das alles auseinander halten?« sagte der alte General, und ein gewisser Familienstolz kla'\n",
      "Start Index: 675727\n",
      "'»Lieber Bruder … verzeihe … aber du leugnest da etwas, was uns allen heilig sein sollte … Dies Geschlecht …« Der Pr'\n",
      "Start Index: 678126\n",
      "'»Lieber Doktor, manchmal sind Sie merkwürdig naiv! Wissen Sie nicht, daß das letzte bemerkenswerte Ereignis bei un'\n",
      "Start Index: 706535\n",
      "'»Lieber Freund! Ich kann nicht fort, sie lassen mich nicht. Sie lassen mir mein Kind nicht. Ich hab' es versucht un'\n",
      "Start Index: 941074\n",
      "'»Lieber Doktor!« sagte er. »Ob wir leben oder sterben … es is ein und dasselbe. Das begreifst du natürlich nicht. D'\n",
      "Start Index: 1072595\n",
      "'»Lieber Schrötter, wir bekommen nun eine Hausfrau. Ich habe mich verlobt.« »Ach Gott,« brachte Schrötter heraus,'\n",
      "Start Index: 1590471\n",
      "'»Liebes Kind,« sagte er nun voll Sorge, »dies kann ohne ärztlichen Rat nicht so weiter gehen …« »Was soll mir ei'\n",
      "Start Index: 1717636\n",
      "'»Liebes Kind, alles kommt auf die wirtschaftlichen Verhältnisse an. Und die sind: Baumann ist finanziell nicht i'\n",
      "Start Index: 1782941\n",
      "'»Lieber Freund! »Ich muß Ihnen mitteilen, daß vor drei Tagen mein geliebter Ätti sanft entschlafen ist. Vor einer S'\n",
      "Start Index: 2372193\n",
      "'»Lieber Papa, das geht nicht so schnell.« Ihr Vater stand mit einer zornigen Gebärde auf. Er machte, leise und u'\n",
      "Start Index: 3609147\n",
      "'»Lieber Freund, thu' mir den Gefallen und fange keinen Krakehl mit dem Professor an . . . . Das ist ein riesig bed'\n",
      "Start Index: 4423898\n",
      "'»Liebes Mädchen – wann kommst du wieder beichten? Morgen?« Als aber der Priester plötzlich den Anflug von Bar'\n",
      "Start Index: 5388995\n",
      "'»Lieber Mann! Bitte, spiel uns zum Tanz! Denn was ist eine Hochzeit ohne Tanz? Spielt nicht auch im Himmel Sankt '\n",
      "Start Index: 5427061\n",
      "'»Liebes Kind, wenn schon für einen Mann, der August doch immerhin ist, diese Aufgabe zu schwer ist, wie viel meh'\n",
      "Start Index: 7034290\n",
      "'»Liebes Fräulein, die Gesetze dieser Erde sind von fehlbaren Menschen gemacht –« »Von schachernden Parteien si'\n",
      "Start Index: 7043366\n",
      "'»Liebes Kind, heutzutage ist alles möglich. Ich rate dir gut und väterlich, dein eigenes Leben zu leben und dich'\n",
      "Start Index: 7107157\n",
      "'»Lieber Gott, wenn du es in Gnaden so fügest, daß unser Sohn Richard und unser goldenes Irenchen ein glückliches'\n",
      "Start Index: 7272765\n",
      "'»Lieber Gott, was soll ich denn ablegen?« flüsterte Josephine, mit geängstigten Augen über die fingerdicken Tepp'\n",
      "Start Index: 7448509\n",
      "'»Lieber Reimar, als Gast hast Du den Vorzug, Fräulein von Wetter den Arm zu bieten!« lächelte Günther zurücktreten'\n",
      "Start Index: 7453444\n",
      "'»Liebstes Herz, was sind das für kindische Sorgen! Jetzt muß es Dir immer federleicht zu Mut sein, wie einer Lerch'\n",
      "Start Index: 3229790\n",
      "'»Liebste Gräfin,« schrieb Tante Renate, »ich halte es für meine Pflicht, Sie über die Vermögensverhältnisse mei'\n",
      "Start Index: 7951927\n",
      "'»Lieber Freund! Ich kann nicht fort, sie lassen mich nicht. Sie lassen mir mein Kind nicht. Ich hab' es versucht un'\n",
      "Start Index: 941074\n",
      "'»Lieber Freund! »Ich muß Ihnen mitteilen, daß vor drei Tagen mein geliebter Ätti sanft entschlafen ist. Vor einer S'\n",
      "Start Index: 2372193\n",
      "'»Geliebtester! Wie hasse ich den Frühling. Es ist eine unerträgliche Jahreszeit. Ja, ich hasse sie. Weil es zwisch'\n",
      "Start Index: 1317179\n",
      "'Geliebter! * * * Ich schlafe. Da höre ich ein Lied durch die Nacht. Ich springe auf – wo ist ein Mantel? – und'\n",
      "Start Index: 204441\n",
      "'Geliebter!« Ungefähr um dieselbe Zeit sah Mansuet den guten Schimmelreiter mit ganz verstörtem Gesicht aus dem'\n",
      "Start Index: 3463715\n",
      "'Geliebter! Übermorgen, wenn ich von Tlalpam zurückkomme, schreibe ich Dir wieder und sende Dir Nachricht durch'\n",
      "Start Index: 4934354\n",
      "'Geliebte! sie war es!« Mansuet kannte sich nicht mehr. »Bestie!« kreischte er, riß ein Messer vom Tische und '\n",
      "Start Index: 3482157\n",
      "'»Geliebte!« »Hebe die blutbefleckten Hände nicht! Laß mich entflattern, beflecke meine weißen Flügel nicht! Bi'\n",
      "Start Index: 5508250\n",
      "'»Mein geliebtes Kind, Du hattest, wie erinnerlich, meinen Mann und mich, Deine Mutter, zu übermorgen zu Tisch gebeten. Wi'\n",
      "Start Index: 1786410\n",
      "'Teuerste auf der Karte. Nichts dünkt ihm für uns gut genug. Wenn er nur nicht gar so besorgt wäre! Jeden Moment '\n",
      "Start Index: 215717\n",
      "'Teurer Meister, sagte er stockend, ich hab' Euch ein großes Geständnis zu machen. Crone und ich, wir haben uns gest'\n",
      "Start Index: 2276916\n",
      "'Teure hochverehrte Frau! Ihnen darf nicht eine gedruckte Karte das Glück verkünden, das Gott mir beschert hat. bei Ihn'\n",
      "Start Index: 4313889\n"
     ]
    }
   ],
   "source": [
    "# Initialize an empty dictionary to store the matches, their start indices, and following 100 characters\n",
    "extracted_matches = {}\n",
    "\n",
    "# Iterate over each pattern\n",
    "for pattern in letter_openings:\n",
    "    # Initialize an empty list to store matches with start indices and following text for the current pattern\n",
    "    pattern_matches = []\n",
    "    \n",
    "    # Iterate over matches for the current pattern and append them to the list\n",
    "    for match in re.finditer(pattern, text):\n",
    "        match_text = match.group(0)  # Get the matched text\n",
    "        match_start = match.start()  # Get the start index of the match\n",
    "        match_end = match.end()      # Get the end index of the match\n",
    "        \n",
    "        # Extract the following 100 characters\n",
    "        following_text = text[match_end:match_end + 100]\n",
    "        \n",
    "        # Combine the match, its start index, and following 100 characters and append to the list\n",
    "        combined_text = match_text + following_text\n",
    "        pattern_matches.append((combined_text, match_start))\n",
    "    \n",
    "    # Store the list of matches with start indices and following text in the extracted_matches dictionary under the pattern name\n",
    "    extracted_matches[pattern] = pattern_matches\n",
    "\n",
    "# Print the extracted matches, their start indices, and following 100 characters\n",
    "for pattern, pattern_matches in extracted_matches.items():\n",
    "    for i, (combined_text, match_start) in enumerate(pattern_matches, start=1):\n",
    "        #print(f\"Pattern: '{pattern}', Match {i}\")\n",
    "        print(f\"'{combined_text}'\")\n",
    "        print(f\"Start Index: {match_start}\")\n"
   ]
  },
  {
   "cell_type": "code",
   "execution_count": 117,
   "id": "11d35270",
   "metadata": {},
   "outputs": [],
   "source": [
    "#print the dictionary with the extracted letter openings plus the start_index\n",
    "#print(extracted_matches)"
   ]
  },
  {
   "cell_type": "markdown",
   "id": "0a6e92df",
   "metadata": {},
   "source": [
    "## Postprocessing"
   ]
  },
  {
   "cell_type": "markdown",
   "id": "232a4bf7",
   "metadata": {},
   "source": [
    "Here starts the postprocessing to clean the output from the most common false positives."
   ]
  },
  {
   "cell_type": "code",
   "execution_count": 118,
   "id": "976027a4",
   "metadata": {},
   "outputs": [],
   "source": [
    "\n",
    "# Now look into the output and find the most common false positives.\n",
    "# Collect them in this list of common false positives \n",
    "#that you can consequently use to delete the values from the received matches of letter openings to clean the output as a postprocessing step.\n",
    "\n",
    "common_false_positives = [\n",
    "    r'[»]?Lieber Gott',\n",
    "    r'Liebe und',\n",
    "    r'Liebe zu',\n",
    "    r'Liebe von',\n",
    "    r'[»]?Liebe[sr]+\\s[A-Za-z,!]*[«]? sagte',\n",
    "    r'Grüß dich Gott, [A-Za-z]',\n",
    "    r'Teurer [A-Za-z,\\s]* sagte',\n",
    "    r'Hochverehrte Festversammlung!',\n",
    "]"
   ]
  },
  {
   "cell_type": "code",
   "execution_count": 120,
   "id": "e53a59db",
   "metadata": {},
   "outputs": [],
   "source": [
    "# Use this function to remove the most common false positives that you encounter and that you documented in the\n",
    "\n",
    "def remove_common_false_positives(extracted_matches, common_false_positives):\n",
    "    # Create a copy of the extracted_matches dictionary to avoid modifying the original\n",
    "    cleaned_matches = {}\n",
    "\n",
    "    # Iterate through the dictionary items\n",
    "    for pattern, matches in extracted_matches.items():\n",
    "        # Create a list to store valid matches that don't match common_false_positives\n",
    "        valid_matches = []\n",
    "\n",
    "        for match in matches:\n",
    "            match_text, match_start = match\n",
    "\n",
    "            # Check if the match_text matches any of the common_false_positives patterns\n",
    "            if not any(re.search(fp_pattern, match_text) for fp_pattern in common_false_positives):\n",
    "                valid_matches.append((match_text, match_start))\n",
    "\n",
    "        # Only update the dictionary with valid matches\n",
    "        if valid_matches:\n",
    "            cleaned_matches[pattern] = valid_matches\n",
    "\n",
    "    return cleaned_matches\n",
    "\n",
    "\n",
    "\n",
    "# Remove common false positives\n",
    "cleaned_matches = remove_common_false_positives(extracted_matches, common_false_positives)\n",
    "\n",
    "# Print the cleaned_matches dictionary\n",
    "#print(cleaned_matches)\n"
   ]
  },
  {
   "cell_type": "markdown",
   "id": "524371d7",
   "metadata": {},
   "source": [
    "## Save the dictionary to a csv file"
   ]
  },
  {
   "cell_type": "code",
   "execution_count": 115,
   "id": "e27ae4bd",
   "metadata": {},
   "outputs": [
    {
     "name": "stdout",
     "output_type": "stream",
     "text": [
      "The dictionary has been saved to 'cleaned_letter_openings_random_sample_text.csv'.\n"
     ]
    }
   ],
   "source": [
    "#import csv\n",
    "\n",
    "# Sample extracted_matches dictionary (replace this with your actual dictionary)\n",
    "#extracted_matches = {\n",
    "#    'Pattern1': [('Match1', 0), ('Match2', 15)],\n",
    "#    'Pattern2': [('Match3', 5)]\n",
    "#}\n",
    "\n",
    "# Specify the CSV file path\n",
    "csv_file_path = \"cleaned_letter_openings_random_sample_text.csv\"\n",
    "\n",
    "# Write the extracted_matches dictionary to the CSV file\n",
    "with open(csv_file_path, 'w', newline='') as csv_file:\n",
    "    writer = csv.writer(csv_file)\n",
    "    \n",
    "    # Write a header row (optional)\n",
    "    writer.writerow(['Pattern', 'Detected Text', 'Start Index'])\n",
    "    \n",
    "    # Iterate through the extracted_matches dictionary and write each match to the CSV file\n",
    "    for pattern, matches in cleaned_matches.items():\n",
    "        for match_text, match_start in matches:\n",
    "            writer.writerow([pattern, match_text, match_start])\n",
    "\n",
    "print(f\"The dictionary has been saved to '{csv_file_path}'.\")\n"
   ]
  },
  {
   "cell_type": "markdown",
   "id": "39e150e3",
   "metadata": {},
   "source": [
    "End of the Notebook."
   ]
  }
 ],
 "metadata": {
  "kernelspec": {
   "display_name": "Python 3 (ipykernel)",
   "language": "python",
   "name": "python3"
  },
  "language_info": {
   "codemirror_mode": {
    "name": "ipython",
    "version": 3
   },
   "file_extension": ".py",
   "mimetype": "text/x-python",
   "name": "python",
   "nbconvert_exporter": "python",
   "pygments_lexer": "ipython3",
   "version": "3.9.7"
  }
 },
 "nbformat": 4,
 "nbformat_minor": 5
}
